{
 "cells": [
  {
   "cell_type": "markdown",
   "metadata": {},
   "source": [
    "# Part 1: The Jester Dataset\n",
    "\n",
    "For the Alternating Least Squares and Stochastic Gradient Descent matrix factorization recommendation systems, the notebooks will be using [the Jester dataset](https://www.kaggle.com/crawford/jester-online-joke-recommender#jesterfinal151cols.csv) hosted on Kaggle. This notebook introduces the dataset, performs some initial analysis, and creates a train / test datset."
   ]
  },
  {
   "cell_type": "code",
   "execution_count": 1,
   "metadata": {
    "collapsed": true
   },
   "outputs": [],
   "source": [
    "from __future__ import print_function\n",
    "from ipywidgets import interact, interactive, fixed, interact_manual\n",
    "import ipywidgets as widgets\n",
    "import numpy as np\n",
    "import pandas as pd\n",
    "import matplotlib.pyplot as plt\n",
    "import imageio\n",
    "import PIL\n",
    "import random\n",
    "import sklearn\n",
    "import scipy\n",
    "\n",
    "random.seed(42)\n",
    "np.random.seed(42)"
   ]
  },
  {
   "cell_type": "markdown",
   "metadata": {},
   "source": [
    "The jester dataset is a recommendation dataset which consists of user ratings for a set of 150 jokes. Users were asked to rate a subset of these jokes on a scale from -10 to 10. The responses for each user are recorded in the rows. The u,i-th row records the rating of joke i for user u. Therefore, this matrix is of dimension U X I, where U is the number of users in the study, and I is the number of jokes in the dataset. The first column is a metadata column that will be discarded. Read in the data.\n",
    "\n",
    "**Note**: The final row in the dataset appeared to be corrupted row when downloading from Kaggle. The row has been removed from the dataset. No other modifications were made. "
   ]
  },
  {
   "cell_type": "code",
   "execution_count": 2,
   "metadata": {},
   "outputs": [
    {
     "name": "stdout",
     "output_type": "stream",
     "text": [
      "The number of users in this dataset is 50691\n",
      "The number of jokes in this dataset is 150\n"
     ]
    }
   ],
   "source": [
    "ratings_mat = pd.read_csv('datasets/jester/jesterfinal151cols.csv', header=None)\n",
    "del ratings_mat[0]\n",
    "print('The number of users in this dataset is {0}'.format(ratings_mat.shape[0]))\n",
    "print('The number of jokes in this dataset is {0}'.format(ratings_mat.shape[1]))"
   ]
  },
  {
   "cell_type": "markdown",
   "metadata": {},
   "source": [
    "The first column of the dataset represents the number of valid ratings from a particular user. That is, if the first column has a value of '3', the user has rated 3 jokes in the dataset. If a user has not rated a joke, the value will be '99'. Plot a histogram to see the distribution of user ratings and joke ratings."
   ]
  },
  {
   "cell_type": "code",
   "execution_count": 3,
   "metadata": {},
   "outputs": [
    {
     "data": {
      "image/png": "[encoded data removed]",
      "text/plain": [
       "<matplotlib.figure.Figure at 0x1a1b092bb00>"
      ]
     },
     "metadata": {},
     "output_type": "display_data"
    }
   ],
   "source": [
    "user_rating_counts = ratings_mat[ratings_mat < 50].count(axis=1)\n",
    "joke_rating_counts = ratings_mat[ratings_mat < 50].count()\n",
    "\n",
    "fig, (ax_left, ax_right) = plt.subplots(nrows=1, ncols=2, figsize=(20, 10))\n",
    "ax_left.hist(user_rating_counts)\n",
    "ax_left.set_title('Number of ratings per user')\n",
    "ax_right.hist(joke_rating_counts)\n",
    "ax_right.set_title('Number of ratings per joke')\n",
    "\n",
    "plt.show()"
   ]
  },
  {
   "cell_type": "markdown",
   "metadata": {},
   "source": [
    "It is interesting that each user has rated at least 15 jokes. This makes this dataset somewhat unusual. In addition, there are a few jokes that appear to have been rated much more frequently than the rest of the jokes. Another statistic of interest is the fill ratio, which is the ratio of the number of user-item ratings that exist in the dataset to the total possible number of user-item ratings. "
   ]
  },
  {
   "cell_type": "code",
   "execution_count": 4,
   "metadata": {},
   "outputs": [
    {
     "name": "stdout",
     "output_type": "stream",
     "text": [
      "The ratings matrix is 22.74% full.\n"
     ]
    }
   ],
   "source": [
    "fill_ratio = np.sum(ratings_mat[ratings_mat < 50].count()) * 100\n",
    "fill_ratio /= (ratings_mat.shape[0] * ratings_mat.shape[1])\n",
    "print('The ratings matrix is {0:.2f}% full.'.format(fill_ratio))"
   ]
  },
  {
   "cell_type": "markdown",
   "metadata": {},
   "source": [
    "We see that the fill ratio is almost 23%, which is unusually high. Most datasets have fill ratios in the single digits. [This website](https://www.kdnuggets.com/2016/02/nine-datasets-investigating-recommender-systems.html) gives a good overview of a few popular datasets. There, we can see that many of the datasets have fill ratios of less than 5%. \n",
    "\n",
    "In order to make processing easier in the following notebooks, the following transformations will be applied to the dataset:\n",
    "* Unrated jokes will be given the value 0 instead of 99. This is because the consuming algorithms will make heavy use of the dot product. Giving unrated jokes the values of 0 will remove them from the calculation.\n",
    "* The rating range of [-10, 10] will be converted to [1, 5]. This is so a rated value of '0' can be distinguished from an unrated value of 0.\n",
    "* The array will be converted to a numpy array. The pandas features are no longer needed."
   ]
  },
  {
   "cell_type": "code",
   "execution_count": 5,
   "metadata": {},
   "outputs": [],
   "source": [
    "ratings_mat *= 0.2\n",
    "ratings_mat += 3\n",
    "ratings_mat.replace(22.8, 0, inplace=True)\n",
    "\n",
    "ratings_mat = ratings_mat.values"
   ]
  },
  {
   "cell_type": "markdown",
   "metadata": {},
   "source": [
    "# TODO: allow insert own joke ratings"
   ]
  },
  {
   "cell_type": "code",
   "execution_count": null,
   "metadata": {
    "collapsed": true
   },
   "outputs": [],
   "source": []
  },
  {
   "cell_type": "markdown",
   "metadata": {},
   "source": [
    "Now that the dataset has been generated, it is time to split into a training and testing set. For the testing set, one review from each user will be selected at random. This review will be removed from the training set. The datasets will then be written to a sparse matrix on disk, to be consumed in future notebooks."
   ]
  },
  {
   "cell_type": "code",
   "execution_count": 6,
   "metadata": {},
   "outputs": [],
   "source": [
    "def train_test_split(ratings):\n",
    "    test = np.zeros(ratings.shape)\n",
    "    train = ratings.copy()\n",
    "    for user in range(ratings.shape[0]):\n",
    "        rated_items = ratings[user, :].nonzero()[0] \n",
    "        test_ratings = np.random.choice(rated_items, \n",
    "                                        size=1, \n",
    "                                        replace=False)\n",
    "        \n",
    "        train[user, test_ratings] = 0.\n",
    "        test[user, test_ratings] = ratings[user, test_ratings]\n",
    "        \n",
    "    return train, test\n",
    "\n",
    "train_set, test_set = train_test_split(ratings_mat)\n",
    "\n",
    "scipy.sparse.save_npz('datasets/train.dat', scipy.sparse.csc_matrix(train_set))\n",
    "scipy.sparse.save_npz('datasets/test.dat', scipy.sparse.csc_matrix(test_set))"
   ]
  }
 ],
 "metadata": {
  "kernelspec": {
   "display_name": "Python 3",
   "language": "python",
   "name": "python3"
  },
  "language_info": {
   "codemirror_mode": {
    "name": "ipython",
    "version": 3
   },
   "file_extension": ".py",
   "mimetype": "text/x-python",
   "name": "python",
   "nbconvert_exporter": "python",
   "pygments_lexer": "ipython3",
   "version": "3.6.1"
  }
 },
 "nbformat": 4,
 "nbformat_minor": 2
}
