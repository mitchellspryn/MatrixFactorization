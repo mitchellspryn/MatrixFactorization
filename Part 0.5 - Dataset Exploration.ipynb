{
 "cells": [
  {
   "cell_type": "markdown",
   "metadata": {},
   "source": [
    "# Part 0.5: The Goodbooks Dataset\n",
    "\n",
    "For the Alternating Least Squares and Stochastic Gradient Descent matrix factorization recommendation systems, the notebooks will be using [the Goodbooks dataset](https://www.kaggle.com/zygmunt/goodbooks-10k#ratings.csv) hosted on Kaggle. This notebook introduces the dataset, performs some initial analysis, and creates a train / test datset."
   ]
  },
  {
   "cell_type": "code",
   "execution_count": 1,
   "metadata": {
    "collapsed": true
   },
   "outputs": [],
   "source": [
    "from __future__ import print_function\n",
    "from ipywidgets import interact, interactive, fixed, interact_manual\n",
    "import ipywidgets as widgets\n",
    "import numpy as np\n",
    "import pandas as pd\n",
    "import matplotlib.pyplot as plt\n",
    "import imageio\n",
    "import PIL\n",
    "import random\n",
    "import sklearn\n",
    "\n",
    "random.seed(42)\n",
    "np.random.seed(42)"
   ]
  },
  {
   "cell_type": "markdown",
   "metadata": {},
   "source": [
    "The provided dataset involves user ratings for different books. Although the dataset provides lots of metadata about each of the books (such as tags, genre, etc), the following notebooks will be using none of these features. Instead, the notebooks use only a single file, the user ratings. This ratings file consists of three columns:\n",
    "\n",
    "* book_id: a unique identifier for each book being reviewed. There are 10,000 different books in the dataset. \n",
    "* user_id: a unique identifier for each user that reviews a book. There are ~54k unique users in the dataset. \n",
    "* rating: an integer between 1 and 5 which records the rating the user gave each of the books. A rating of 1 indicates that the user strongly disliked the book, while a rating of 5 indicates that the user strongly liked the book."
   ]
  },
  {
   "cell_type": "code",
   "execution_count": 2,
   "metadata": {},
   "outputs": [
    {
     "name": "stdout",
     "output_type": "stream",
     "text": [
      "The shape of user_ratings is (981756, 3)\n"
     ]
    },
    {
     "data": {
      "text/html": [
       "<div>\n",
       "<style>\n",
       "    .dataframe thead tr:only-child th {\n",
       "        text-align: right;\n",
       "    }\n",
       "\n",
       "    .dataframe thead th {\n",
       "        text-align: left;\n",
       "    }\n",
       "\n",
       "    .dataframe tbody tr th {\n",
       "        vertical-align: top;\n",
       "    }\n",
       "</style>\n",
       "<table border=\"1\" class=\"dataframe\">\n",
       "  <thead>\n",
       "    <tr style=\"text-align: right;\">\n",
       "      <th></th>\n",
       "      <th>book_id</th>\n",
       "      <th>user_id</th>\n",
       "      <th>rating</th>\n",
       "    </tr>\n",
       "  </thead>\n",
       "  <tbody>\n",
       "    <tr>\n",
       "      <th>0</th>\n",
       "      <td>1</td>\n",
       "      <td>314</td>\n",
       "      <td>5</td>\n",
       "    </tr>\n",
       "    <tr>\n",
       "      <th>1</th>\n",
       "      <td>1</td>\n",
       "      <td>439</td>\n",
       "      <td>3</td>\n",
       "    </tr>\n",
       "    <tr>\n",
       "      <th>2</th>\n",
       "      <td>1</td>\n",
       "      <td>588</td>\n",
       "      <td>5</td>\n",
       "    </tr>\n",
       "    <tr>\n",
       "      <th>3</th>\n",
       "      <td>1</td>\n",
       "      <td>1169</td>\n",
       "      <td>4</td>\n",
       "    </tr>\n",
       "    <tr>\n",
       "      <th>4</th>\n",
       "      <td>1</td>\n",
       "      <td>1185</td>\n",
       "      <td>4</td>\n",
       "    </tr>\n",
       "  </tbody>\n",
       "</table>\n",
       "</div>"
      ],
      "text/plain": [
       "   book_id  user_id  rating\n",
       "0        1      314       5\n",
       "1        1      439       3\n",
       "2        1      588       5\n",
       "3        1     1169       4\n",
       "4        1     1185       4"
      ]
     },
     "execution_count": 2,
     "metadata": {},
     "output_type": "execute_result"
    }
   ],
   "source": [
    "ratings = pd.read_csv('datasets/goodbooks/ratings.csv')\n",
    "print('The shape of user_ratings is {0}'.format(ratings.shape))\n",
    "ratings.head()"
   ]
  },
  {
   "cell_type": "markdown",
   "metadata": {},
   "source": [
    "Although there are approximately 1 million records, the data shows a long-tailed distribution. Many users only review a few books, and many books are only reviewed by a few users. There are also a few super-reviewers that have reviewed a ton of books."
   ]
  },
  {
   "cell_type": "code",
   "execution_count": 3,
   "metadata": {},
   "outputs": [
    {
     "data": {
      "image/png": "[encoded data removed]",
      "text/plain": [
       "<matplotlib.figure.Figure at 0x18f7348c1d0>"
      ]
     },
     "metadata": {},
     "output_type": "display_data"
    }
   ],
   "source": [
    "ratings_per_user = ratings.groupby('user_id').size().reset_index()\n",
    "ratings_per_user.columns = ['user_id', 'number_of_ratings']\n",
    "\n",
    "ratings_per_book = ratings.groupby('book_id').size().reset_index()\n",
    "ratings_per_book.columns = ['book_id', 'number_of_ratings']\n",
    "\n",
    "fig, (ax_left, ax_right) = plt.subplots(nrows=1, ncols=2, figsize=(20, 10))\n",
    "ax_left.hist(ratings_per_user['number_of_ratings'], bins=list(range(0, 205, 5)))\n",
    "ax_left.set_title('Number of ratings per user')\n",
    "ax_right.hist(ratings_per_book['number_of_ratings'], bins=list(range(0, 100, 10)))\n",
    "ax_right.set_title('Number of ratings per book')\n",
    "\n",
    "plt.show()"
   ]
  },
  {
   "cell_type": "markdown",
   "metadata": {},
   "source": [
    "We can see that most reviewers have given few ratings, but most books are quite well reviewed. Since we are building a recommendation system, it is unlikely that the system will be able to recommend for users that have very few ratings. Also, it is unlikely that the system will be able to recommend for books that have very few reviews. \n",
    "\n",
    "To clean up these outliers, we will filter out users that have given fewer thatn four ratings, and books that have been reviewed by fewer than five users. These numbers were chosen somewhat arbitrarily, with a goal of filtering out users that have given few reviews while still maintaining the bulk of the users in the dataset. Try changing these thresholds and seeing what effect it has on the models in future notebooks!"
   ]
  },
  {
   "cell_type": "code",
   "execution_count": 10,
   "metadata": {},
   "outputs": [
    {
     "name": "stdout",
     "output_type": "stream",
     "text": [
      "After filtering, there are 722268 / 981756 (73.57%) ratings left in the dataset\n",
      "After filtering, there are 14639 / 53424 (27.40%) users left in the dataset.\n",
      "After filtering, there are 10000 / 10000 (100.00%) books left in the dataset.\n",
      "Sparsity is 0.0049338616025684815%\n"
     ]
    }
   ],
   "source": [
    "valid_users = ratings_per_user[ratings_per_user['number_of_ratings'] >= 20]['user_id']\n",
    "valid_books = ratings_per_book[ratings_per_book['number_of_ratings'] >= 5]['book_id']\n",
    "filtered_ratings = ratings[ratings['user_id'].isin(valid_users) & ratings['book_id'].isin(valid_books)].copy()\n",
    "\n",
    "print('After filtering, there are {0} / {1} ({2:.2f}%) ratings left in the dataset'.format(filtered_ratings.shape[0], ratings.shape[0], filtered_ratings.shape[0] * 100.0 / ratings.shape[0]))\n",
    "print('After filtering, there are {0} / {1} ({2:.2f}%) users left in the dataset.'.format(len(valid_users), ratings_per_user.shape[0], len(valid_users) * 100.0 / ratings_per_user.shape[0]))\n",
    "print('After filtering, there are {0} / {1} ({2:.2f}%) books left in the dataset.'.format(len(valid_books), ratings_per_book.shape[0], len(valid_books) * 100.0 / ratings_per_book.shape[0]))\n",
    "print('Sparsity is {0}%'.format(filtered_ratings.shape[0] / (len(valid_users) * len(valid_books))))"
   ]
  },
  {
   "cell_type": "markdown",
   "metadata": {},
   "source": [
    "For convenience in the later notebooks, we will remap the user_ids and book_ids so they are continuous"
   ]
  },
  {
   "cell_type": "code",
   "execution_count": 5,
   "metadata": {},
   "outputs": [],
   "source": [
    "distinct_valid_users = sorted(list(filtered_ratings['user_id'].unique()))\n",
    "distinct_valid_books = sorted(list(filtered_ratings['book_id'].unique()))\n",
    "\n",
    "user_mapping = {}\n",
    "for i in range(0, len(distinct_valid_users), 1):\n",
    "    user_mapping[distinct_valid_users[i]] = i\n",
    "\n",
    "book_mapping = {}\n",
    "for i in range(0, len(distinct_valid_books), 1):\n",
    "    book_mapping[distinct_valid_books[i]] = i\n",
    "    \n",
    "filtered_ratings['user_id'] = filtered_ratings.apply(lambda r: user_mapping[r['user_id']], axis=1)\n",
    "filtered_ratings['book_id'] = filtered_ratings.apply(lambda r: book_mapping[r['book_id']], axis=1)"
   ]
  },
  {
   "cell_type": "code",
   "execution_count": 6,
   "metadata": {},
   "outputs": [
    {
     "name": "stdout",
     "output_type": "stream",
     "text": [
      "0\n"
     ]
    }
   ],
   "source": [
    "print(min(filtered_ratings['book_id']))"
   ]
  },
  {
   "cell_type": "markdown",
   "metadata": {},
   "source": [
    "To create the train / test split, two reviews from each user are sampled at random and placed in the test set. The remaining reviews are placed in the train set. This process will avoid the issue of having all of a user's reviews being placed inside of the test set."
   ]
  },
  {
   "cell_type": "code",
   "execution_count": 7,
   "metadata": {},
   "outputs": [],
   "source": [
    "filtered_ratings = sklearn.utils.shuffle(filtered_ratings)\n",
    "\n",
    "test_user_id_counts = {}\n",
    "num_ratings_to_take = 2\n",
    "\n",
    "def is_train_set(row):\n",
    "    user_id = row['user_id']\n",
    "    book_id = row['book_id']\n",
    "    if user_id not in test_user_id_counts:\n",
    "        test_user_id_counts[user_id] = 1\n",
    "        return 0\n",
    "    else:\n",
    "        if test_user_id_counts[user_id] < num_ratings_to_take:\n",
    "            test_user_id_counts[user_id] += 1\n",
    "            return 0\n",
    "        else:\n",
    "            return 1\n",
    "        \n",
    "filtered_ratings['is_train_set'] = filtered_ratings.apply(lambda r: is_train_set(r), axis=1)"
   ]
  },
  {
   "cell_type": "markdown",
   "metadata": {},
   "source": [
    "With this rule, the train/test split is approximately 92% / 8%. This should be sufficient for the future notebooks."
   ]
  },
  {
   "cell_type": "code",
   "execution_count": 8,
   "metadata": {},
   "outputs": [
    {
     "name": "stdout",
     "output_type": "stream",
     "text": [
      "The test set contains 79372 / 948844 (8.37%) of the examples.\n",
      "The train set contains 869472 / 948844 (91.63%) of the examples.\n"
     ]
    }
   ],
   "source": [
    "test_set = filtered_ratings[filtered_ratings['is_train_set'] == 0]\n",
    "train_set = filtered_ratings[filtered_ratings['is_train_set'] == 1]\n",
    "\n",
    "del train_set['is_train_set']\n",
    "del test_set['is_train_set']\n",
    "\n",
    "print('The test set contains {0} / {1} ({2:.2f}%) of the examples.'.format(test_set.shape[0], filtered_ratings.shape[0], test_set.shape[0] * 100.0 / filtered_ratings.shape[0]))\n",
    "print('The train set contains {0} / {1} ({2:.2f}%) of the examples.'.format(train_set.shape[0], filtered_ratings.shape[0], train_set.shape[0] * 100.0 / filtered_ratings.shape[0]))\n",
    "\n",
    "train_set.to_csv('datasets/goodbooks/train.csv', index=False)\n",
    "test_set.to_csv('datasets/goodbooks/test.csv', index=False)"
   ]
  }
 ],
 "metadata": {
  "kernelspec": {
   "display_name": "Python 3",
   "language": "python",
   "name": "python3"
  },
  "language_info": {
   "codemirror_mode": {
    "name": "ipython",
    "version": 3
   },
   "file_extension": ".py",
   "mimetype": "text/x-python",
   "name": "python",
   "nbconvert_exporter": "python",
   "pygments_lexer": "ipython3",
   "version": "3.6.1"
  }
 },
 "nbformat": 4,
 "nbformat_minor": 2
}
