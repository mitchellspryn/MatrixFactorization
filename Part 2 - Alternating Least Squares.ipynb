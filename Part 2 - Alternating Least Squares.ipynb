{
 "cells": [
  {
   "cell_type": "markdown",
   "metadata": {},
   "source": [
    "# Part 1: Alternating Least Squares for Matrix Factorization\n",
    "\n",
    "The notebook in [part 0]() introduced a popular matrix factorization technique, Singular Value Decomposition (*SVD*) and showed its usefulness. This notebook will describe how matrix factorization can be used to build a recommender system via the Alternating Least Squares (*ALS*) algorithm."
   ]
  },
  {
   "cell_type": "code",
   "execution_count": 1,
   "metadata": {
    "collapsed": true
   },
   "outputs": [],
   "source": [
    "from __future__ import print_function\n",
    "from ipywidgets import interact, interactive, fixed, interact_manual\n",
    "import ipywidgets as widgets\n",
    "import numpy as np\n",
    "import pandas as pd\n",
    "import matplotlib.pyplot as plt\n",
    "import imageio\n",
    "import PIL\n",
    "import random\n",
    "import os\n",
    "import sklearn.metrics\n",
    "import IPython.display\n",
    "import scipy\n",
    "\n",
    "random.seed(0)\n",
    "np.random.seed(0)"
   ]
  },
  {
   "cell_type": "markdown",
   "metadata": {},
   "source": [
    "Load the train and test datasets created in the dataset exploration notebook."
   ]
  },
  {
   "cell_type": "code",
   "execution_count": 2,
   "metadata": {},
   "outputs": [
    {
     "name": "stdout",
     "output_type": "stream",
     "text": [
      "There are 50691 users and 150 items.\n"
     ]
    }
   ],
   "source": [
    "train_ratings = scipy.sparse.load_npz('datasets/train.dat.npz').toarray()\n",
    "test_ratings = scipy.sparse.load_npz('datasets/test.dat.npz').toarray()\n",
    "\n",
    "num_users = train_ratings.shape[0]\n",
    "num_items = train_ratings.shape[1]\n",
    "\n",
    "print('There are {0} users and {1} items.'.format(num_users, num_items))"
   ]
  },
  {
   "cell_type": "markdown",
   "metadata": {},
   "source": [
    "The Alternating Least Squares (*ALS*) algorithm models the user-item interaction as a pair of matricies. The algorithm makes the following assumptions:\n",
    "\n",
    "* Each user can be represented by a small number of numerical attributes, called \"latent features,\" or collectively, a \"latent vector.\"\n",
    "* Each item can also be represented by a small number of latent features.\n",
    "* The user-item interaction can be modeled by a dot product of the user features and the item features.\n",
    "\n",
    "For a system with K latent features, U users, and I items, the prediction can be written like this:\n",
    "\n",
    "![als_prediction_rule](images/2/als_prediction_rule_img.png)\n",
    "\n",
    "The interesting part of this algorithm is that it is not necessary to know the meaning of each individual feature. There is no feature engineering involved; the algorithm will figure it out based on the minimization of a loss function. For ALS, the loss function looks like this:\n",
    "\n",
    "![als_loss_function_rule](images/2/als_loss_function_rule_img.png)\n",
    "\n",
    "The set S represents the set of all items that have been rated. The first term represents the error of our prediction - the squared difference between the actual user rating and our prediction. The second and third terms are regularization terms that are added to prevent overfitting. They are controlled by the two parameters lambda_x, and lambda_y. These are parameters that can be tuned to improve the model performance.\n",
    "\n",
    "When training, the goal is to minimize the loss function. The loss function is at a minimum when the derivitave is zero. To minimize the loss, the ALS algorithm takes an iterative approach. First, the optimal values for the user latent features are computed while holding the item latent features constant. Then, using the newly-computed user latent features, the optimal values for the item latent features are computed. This process continues until the values of the latent features reach an equilbrium, at which point the algorithm is said to have converged.\n",
    "\n",
    "To determine the computation that needs to be performed at each step, it is necessary to compute the partial derivatives of the loss function. For the user features, the expression looks like this:\n",
    "\n",
    "![als_derivative_user](images/2/als_derivative_user_img.png)\n",
    "\n",
    "This expression can be solved for the user features. Here, the symbol Y is introduced to represent the item latent features stacked on top of each other. Y has dimensions IxK. I is the identity matrix. The final result looks like this:\n",
    "\n",
    "![als_derivative_user_final](images/2/als_derivative_user_final_img.png)\n",
    "\n",
    "The computation for the item features looks similar. First, the partial derivative:\n",
    "\n",
    "![als_derivative_item](images/2/als_derivative_item_img.png)\n",
    "\n",
    "This expression can be solved for the item features:\n",
    "\n",
    "![als_derivative_item_final](images/2/als_derivative_item_final_img.png)\n",
    "\n",
    "Similar to the user derivation, the symbol X is introduced to represent the user latent features stacked on top of eache other. X has dimensions UxK. \n",
    "\n",
    "Enough talk, time to code! Fortunately, turning these mathematical expressions into executable code is straightforward. The code for updating the latent features is in the cell block below."
   ]
  },
  {
   "cell_type": "code",
   "execution_count": 3,
   "metadata": {
    "collapsed": true
   },
   "outputs": [],
   "source": [
    "def als_step(latent_vectors, fixed_vectors, ratings, regularization_param, step_type):\n",
    "    denom_first = fixed_vectors.T.dot(fixed_vectors)\n",
    "    denom_second = np.eye(denom_first.shape[0]) * regularization_param       \n",
    "    \n",
    "    if step_type == 'user':\n",
    "        for i in range(0, latent_vectors.shape[0], 1):\n",
    "            latent_vectors[i, :] = np.linalg.solve(denom_first + denom_second, ratings[i, :].dot(fixed_vectors))\n",
    "    elif step_type == 'item':\n",
    "        for i in range(0, latent_vectors.shape[0], 1):\n",
    "            latent_vectors[i, :] = np.linalg.solve(denom_first + denom_second, ratings[:, i].dot(fixed_vectors))\n",
    "            \n",
    "    return latent_vectors\n",
    "\n",
    "def training_step(user_vec, item_vec, ratings, regularization_user, regularization_item):\n",
    "    user_vec = als_step(user_vec, item_vec, ratings, regularization_user, 'user')\n",
    "    item_vec = als_step(item_vec, user_vec, ratings, regularization_item, 'item')\n",
    "    return (user_vec, item_vec)"
   ]
  },
  {
   "cell_type": "markdown",
   "metadata": {},
   "source": [
    "As detailed in the above cell, predictions are computed by computing the dot product between the user latent features and the item latent features. For convenience, a method that computes all predictions is introduced as well. "
   ]
  },
  {
   "cell_type": "code",
   "execution_count": 4,
   "metadata": {
    "collapsed": true
   },
   "outputs": [],
   "source": [
    "def predict_one(user_vec, item_vec, user_idx, item_idx):\n",
    "    return user_vec[user_idx, :].dot(item_vec[item_idx, :])\n",
    "    \n",
    "def predict_all(user_vec, item_vec):\n",
    "    predictions = np.zeros((num_users, num_items))\n",
    "    \n",
    "    for u in range(0, num_users, 1):\n",
    "        for b in range(0, num_items, 1):\n",
    "            predictions[u, b] = predict_one(user_vec, item_vec, u, b) \n",
    "    \n",
    "    return predictions"
   ]
  },
  {
   "cell_type": "markdown",
   "metadata": {},
   "source": [
    "For this example, the mean absolute error will be used as our performance metric. The computation is straightforward, although care must be taken to only include the values in the error computation for which the labels are known."
   ]
  },
  {
   "cell_type": "code",
   "execution_count": 5,
   "metadata": {
    "collapsed": true
   },
   "outputs": [],
   "source": [
    "def compute_mean_absolute_error(predicted, actual):\n",
    "    labeled_elements = actual.nonzero()\n",
    "    predicted = predicted[labeled_elements].flatten()\n",
    "    actual = actual[labeled_elements].flatten()\n",
    "    return sklearn.metrics.mean_absolute_error(actual, predicted)"
   ]
  },
  {
   "cell_type": "markdown",
   "metadata": {},
   "source": [
    "With all of the boilerplate out of the way, the training loop can be written. Here, the number of latent factors, regularization parameters, number of iterations, and initialization of the user and item features are set arbitrarily. Try changing them and seeing what effect this has on the algorithm!\n",
    "\n",
    "Note that for larger datasets or higher number of iterations, this cell may take a long time to run."
   ]
  },
  {
   "cell_type": "code",
   "execution_count": 6,
   "metadata": {
    "scrolled": false
   },
   "outputs": [
    {
     "name": "stdout",
     "output_type": "stream",
     "text": [
      "Completed training iteration 20 / 20 (100.00%)\n",
      "Done!\n"
     ]
    }
   ],
   "source": [
    "num_factors = 10\n",
    "l1_reg_items = 0.1\n",
    "l1_reg_users = 0.1\n",
    "num_iterations = 20\n",
    "\n",
    "user_vectors = np.random.normal(size=(num_users, num_factors), scale=1.0 / num_factors)\n",
    "item_vectors = np.random.normal(size=(num_items, num_factors), scale=1.0 / num_factors)\n",
    "\n",
    "history = []\n",
    "for train_idx in range(0, num_iterations, 1):\n",
    "    old_user_vectors = user_vectors.copy()\n",
    "    old_item_vectors = item_vectors.copy()\n",
    "    user_vectors, item_vectors = training_step(user_vectors, item_vectors, train_ratings, l1_reg_items, l1_reg_users)\n",
    "    \n",
    "    this_history = {}\n",
    "    all_predictions = predict_all(user_vectors, item_vectors)\n",
    "    this_history['train_mse'] = compute_mae(all_predictions, train_ratings)\n",
    "    this_history['test_mse'] = compute_mae(all_predictions, test_ratings)\n",
    "    this_history['diff_users'] = np.sum(np.sum(np.abs(old_user_vectors - user_vectors)))\n",
    "    this_history['diff_items'] = np.sum(np.sum(np.abs(old_item_vectors - item_vectors)))\n",
    "    \n",
    "    history.append(this_history)\n",
    "\n",
    "    IPython.display.clear_output()\n",
    "    print('Completed training iteration {0} / {1} ({2:.2f}%)'.format(train_idx + 1, num_iterations, (train_idx + 1) * 100.0 / num_iterations))\n",
    "\n",
    "print('Done!')"
   ]
  },
  {
   "cell_type": "markdown",
   "metadata": {},
   "source": [
    "Now that training is complete, the error can be plotted. Some interesting trends can be observed:\n",
    "\n",
    "* The model converges pretty quickly. It takes less than five iterations to reach its final value.\n",
    "* The model does not seem to overfit. Increasing the number of training iterations does not change the train set accuracy.\n",
    "* The performance is quite good, considering that zero metadata has been injected into the model. Also, there has been no attempt to do any sort of data cleaning or bias compensation."
   ]
  },
  {
   "cell_type": "code",
   "execution_count": 7,
   "metadata": {},
   "outputs": [
    {
     "data": {
      "image/png": "[encoded data removed]",
      "text/plain": [
       "<matplotlib.figure.Figure at 0x2385beb5240>"
      ]
     },
     "metadata": {},
     "output_type": "display_data"
    }
   ],
   "source": [
    "diff_user_vec = [h['diff_users'] for h in history]\n",
    "diff_items_vec = [h['diff_items'] for h in history]\n",
    "diff_total_vec = [h['diff_users'] + h['diff_items'] for h in history]\n",
    "train_mse_vec = [h['train_mse'] for h in history]\n",
    "test_mse_vec = [h['test_mse'] for h in history]\n",
    "x_axis = list(range(0, len(history), 1))\n",
    "\n",
    "fig, (ax_left, ax_right) = plt.subplots(nrows=1, ncols=2, figsize=(20,10))\n",
    "\n",
    "ax_left.plot(x_axis, diff_user_vec, 'r-', label='diff_users')\n",
    "ax_left.plot(x_axis, diff_items_vec, 'b-', label='diff_items')\n",
    "ax_left.plot(x_axis, diff_total_vec, 'g-', label='diff_total')\n",
    "ax_left.set_title('Convergence of ALS over iterations.')\n",
    "ax_left.set_xlim(0, max(x_axis) + 1)\n",
    "ax_left.set_ylim(0, max(diff_total_vec) * 1.05)\n",
    "ax_left.legend()\n",
    "\n",
    "ax_right.plot(x_axis, train_mse_vec, 'r-', label='Train Mean Absolute Error')\n",
    "ax_right.plot(x_axis, test_mse_vec, 'b-', label='Test Mean Absolute Error')\n",
    "ax_right.set_title('Mean Absolute Error by Iteration')\n",
    "ax_right.set_xlim(0, max(x_axis) + 1)\n",
    "ax_right.set_ylim(0, max(test_mse_vec) * 1.05)\n",
    "ax_right.legend()\n",
    "\n",
    "plt.show()"
   ]
  },
  {
   "cell_type": "markdown",
   "metadata": {},
   "source": [
    "# TODO: user prediction"
   ]
  },
  {
   "cell_type": "code",
   "execution_count": null,
   "metadata": {
    "collapsed": true
   },
   "outputs": [],
   "source": []
  },
  {
   "cell_type": "markdown",
   "metadata": {},
   "source": [
    "There are a few additional points to make about this algorithm\n",
    "* The computation of this algorithm is embarrassingly parallel. Each user feature and item feature can be computed independently of each other. This leads to an efficient map-reduce implementation, which makes this algorithm popular for large datasets.\n",
    "* While this algorithm generally does not lead the best performance, it has the attractive property of not being as prone to overfitting as other algorithms. Thus, many recommendation systems include this algorithm as one of the predictors in an ensemble model.\n",
    "* When new users or items are added to the catalog, the entire model must be recomputed, which is expensive. This is a drawback for systems that need to rapidly adapt to changing datasets."
   ]
  }
 ],
 "metadata": {
  "kernelspec": {
   "display_name": "Python 3",
   "language": "python",
   "name": "python3"
  },
  "language_info": {
   "codemirror_mode": {
    "name": "ipython",
    "version": 3
   },
   "file_extension": ".py",
   "mimetype": "text/x-python",
   "name": "python",
   "nbconvert_exporter": "python",
   "pygments_lexer": "ipython3",
   "version": "3.6.1"
  }
 },
 "nbformat": 4,
 "nbformat_minor": 2
}
