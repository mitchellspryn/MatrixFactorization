{
 "cells": [
  {
   "cell_type": "markdown",
   "metadata": {},
   "source": [
    "# Part 1: Alternating Least Squares for Matrix Factorization\n",
    "\n",
    "The notebook in [part 0]() introduced a popular matrix factorization technique, Singular Value Decomposition (*SVD*) and showed its usefulness. This notebook will describe how matrix factorization can be used to build a recommender system via the Alternating Least Squares (*ALS*) algorithm."
   ]
  },
  {
   "cell_type": "code",
   "execution_count": 1,
   "metadata": {},
   "outputs": [],
   "source": [
    "from __future__ import print_function\n",
    "from ipywidgets import interact, interactive, fixed, interact_manual\n",
    "import ipywidgets as widgets\n",
    "import numpy as np\n",
    "import pandas as pd\n",
    "import matplotlib.pyplot as plt\n",
    "import imageio\n",
    "import PIL\n",
    "import random\n",
    "import os\n",
    "import sklearn.metrics\n",
    "\n",
    "random.seed(0)\n",
    "np.random.seed(0)"
   ]
  },
  {
   "cell_type": "code",
   "execution_count": 2,
   "metadata": {},
   "outputs": [
    {
     "data": {
      "text/html": [
       "<div>\n",
       "<style>\n",
       "    .dataframe thead tr:only-child th {\n",
       "        text-align: right;\n",
       "    }\n",
       "\n",
       "    .dataframe thead th {\n",
       "        text-align: left;\n",
       "    }\n",
       "\n",
       "    .dataframe tbody tr th {\n",
       "        vertical-align: top;\n",
       "    }\n",
       "</style>\n",
       "<table border=\"1\" class=\"dataframe\">\n",
       "  <thead>\n",
       "    <tr style=\"text-align: right;\">\n",
       "      <th></th>\n",
       "      <th>user_id</th>\n",
       "      <th>item_id</th>\n",
       "      <th>rating</th>\n",
       "    </tr>\n",
       "  </thead>\n",
       "  <tbody>\n",
       "    <tr>\n",
       "      <th>0</th>\n",
       "      <td>196</td>\n",
       "      <td>242</td>\n",
       "      <td>3</td>\n",
       "    </tr>\n",
       "    <tr>\n",
       "      <th>1</th>\n",
       "      <td>186</td>\n",
       "      <td>302</td>\n",
       "      <td>3</td>\n",
       "    </tr>\n",
       "    <tr>\n",
       "      <th>2</th>\n",
       "      <td>22</td>\n",
       "      <td>377</td>\n",
       "      <td>1</td>\n",
       "    </tr>\n",
       "    <tr>\n",
       "      <th>3</th>\n",
       "      <td>244</td>\n",
       "      <td>51</td>\n",
       "      <td>2</td>\n",
       "    </tr>\n",
       "    <tr>\n",
       "      <th>4</th>\n",
       "      <td>166</td>\n",
       "      <td>346</td>\n",
       "      <td>1</td>\n",
       "    </tr>\n",
       "  </tbody>\n",
       "</table>\n",
       "</div>"
      ],
      "text/plain": [
       "   user_id  item_id  rating\n",
       "0      196      242       3\n",
       "1      186      302       3\n",
       "2       22      377       1\n",
       "3      244       51       2\n",
       "4      166      346       1"
      ]
     },
     "execution_count": 2,
     "metadata": {},
     "output_type": "execute_result"
    }
   ],
   "source": [
    "names = ['user_id', 'item_id', 'rating', 'timestamp']\n",
    "dataset = pd.read_csv('datasets/ml-100k/u.data', sep='\\t', names=names)\n",
    "del dataset['timestamp']\n",
    "dataset.head()"
   ]
  },
  {
   "cell_type": "code",
   "execution_count": 3,
   "metadata": {
    "collapsed": true
   },
   "outputs": [],
   "source": [
    "def build_ratings_matrix(dataset):\n",
    "    num_users = dataset['user_id'].unique().shape[0]\n",
    "    num_items = dataset['item_id'].unique().shape[0]\n",
    "\n",
    "    ratings_mat = np.zeros((num_users, num_items))\n",
    "    \n",
    "    for idx, row in dataset.iterrows():\n",
    "        ratings_mat[row['user_id']-1, row['item_id']-1] = row['rating']\n",
    "    \n",
    "    return ratings_mat\n",
    "\n",
    "ratings = build_ratings_matrix(dataset)"
   ]
  },
  {
   "cell_type": "code",
   "execution_count": 4,
   "metadata": {},
   "outputs": [],
   "source": [
    "def train_test_split(ratings):\n",
    "    test = np.zeros(ratings.shape)\n",
    "    train = ratings.copy()\n",
    "    for user in range(ratings.shape[0]):\n",
    "        rated_items = ratings[user, :].nonzero()[0] \n",
    "        test_ratings = np.random.choice(rated_items, \n",
    "                                        size=3, \n",
    "                                        replace=False)\n",
    "        \n",
    "        train[user, test_ratings] = 0.\n",
    "        test[user, test_ratings] = ratings[user, test_ratings]\n",
    "        \n",
    "    return train, test\n",
    "\n",
    "train_set, test_set = train_test_split(ratings)"
   ]
  },
  {
   "cell_type": "code",
   "execution_count": 5,
   "metadata": {
    "collapsed": true
   },
   "outputs": [],
   "source": [
    "def als_step(latent_vectors, fixed_vectors, ratings, regularization_param, step_type):\n",
    "    denom_first = fixed_vectors.T.dot(fixed_vectors)\n",
    "    denom_second = np.eye(denom_first.shape[0]) * regularization_param       \n",
    "    \n",
    "    if step_type == 'user':\n",
    "        for i in range(0, latent_vectors.shape[0], 1):\n",
    "            latent_vectors[i, :] = np.linalg.solve(denom_first + denom_second, ratings[i, :].dot(fixed_vectors))\n",
    "    elif step_type == 'item':\n",
    "        for i in range(0, latent_vectors.shape[0], 1):\n",
    "            latent_vectors[i, :] = np.linalg.solve(denom_first + denom_second, ratings[:, i].dot(fixed_vectors))\n",
    "            \n",
    "    return latent_vectors\n",
    "\n",
    "def training_step(user_vec, item_vec, ratings, regularization_user, regularization_item):\n",
    "    user_vec = als_step(user_vec, item_vec, ratings, regularization_user, 'user')\n",
    "    item_vec = als_step(item_vec, user_vec, ratings, regularization_item, 'item')\n",
    "    return (user_vec, item_vec)"
   ]
  },
  {
   "cell_type": "code",
   "execution_count": 6,
   "metadata": {
    "collapsed": true
   },
   "outputs": [],
   "source": [
    "def predict_one(user_vec, item_vec, user_idx, item_idx):\n",
    "    return user_vec[user_idx, :].dot(item_vec[item_idx, :])\n",
    "    \n",
    "def predict_all(user_vec, item_vec):\n",
    "    predictions = np.zeros((num_users, num_items))\n",
    "    \n",
    "    for u in range(0, num_users, 1):\n",
    "        for b in range(0, num_items, 1):\n",
    "            predictions[u, b] = predict_one(user_vec, item_vec, u, b) \n",
    "    \n",
    "    return predictions"
   ]
  },
  {
   "cell_type": "code",
   "execution_count": 7,
   "metadata": {},
   "outputs": [],
   "source": [
    "def compute_mae(predicted, actual):\n",
    "    labeled_elements = actual.nonzero()\n",
    "    predicted = predicted[labeled_elements].flatten()\n",
    "    actual = actual[labeled_elements].flatten()\n",
    "    return sklearn.metrics.mean_absolute_error(actual, predicted)"
   ]
  },
  {
   "cell_type": "code",
   "execution_count": 8,
   "metadata": {
    "scrolled": false
   },
   "outputs": [
    {
     "name": "stdout",
     "output_type": "stream",
     "text": [
      "Completed training iteration 1\n",
      "Completed training iteration 2\n",
      "Completed training iteration 3\n",
      "Completed training iteration 4\n",
      "Completed training iteration 5\n",
      "Completed training iteration 6\n",
      "Completed training iteration 7\n",
      "Completed training iteration 8\n",
      "Completed training iteration 9\n",
      "Completed training iteration 10\n",
      "Completed training iteration 11\n",
      "Completed training iteration 12\n",
      "Completed training iteration 13\n",
      "Completed training iteration 14\n",
      "Completed training iteration 15\n",
      "Completed training iteration 16\n",
      "Completed training iteration 17\n",
      "Completed training iteration 18\n",
      "Completed training iteration 19\n",
      "Completed training iteration 20\n",
      "Completed training iteration 21\n",
      "Completed training iteration 22\n",
      "Completed training iteration 23\n",
      "Completed training iteration 24\n",
      "Completed training iteration 25\n",
      "Completed training iteration 26\n",
      "Completed training iteration 27\n",
      "Completed training iteration 28\n",
      "Completed training iteration 29\n",
      "Completed training iteration 30\n",
      "Completed training iteration 31\n",
      "Completed training iteration 32\n",
      "Completed training iteration 33\n",
      "Completed training iteration 34\n",
      "Completed training iteration 35\n",
      "Completed training iteration 36\n",
      "Completed training iteration 37\n",
      "Completed training iteration 38\n",
      "Completed training iteration 39\n",
      "Completed training iteration 40\n",
      "Completed training iteration 41\n",
      "Completed training iteration 42\n",
      "Completed training iteration 43\n",
      "Completed training iteration 44\n",
      "Completed training iteration 45\n",
      "Completed training iteration 46\n",
      "Completed training iteration 47\n",
      "Completed training iteration 48\n",
      "Completed training iteration 49\n",
      "Completed training iteration 50\n",
      "Done!\n"
     ]
    }
   ],
   "source": [
    "num_factors = 10\n",
    "num_users = dataset['user_id'].unique().shape[0]\n",
    "num_items = dataset['item_id'].unique().shape[0]\n",
    "l1_reg_items = 0.1\n",
    "l1_reg_users = 0.1\n",
    "\n",
    "user_vectors = np.random.random((num_users, num_factors))\n",
    "item_vectors = np.random.random((num_items, num_factors))\n",
    "\n",
    "history = []\n",
    "for train_idx in range(0, 50, 1):\n",
    "    old_user_vectors = user_vectors.copy()\n",
    "    old_item_vectors = item_vectors.copy()\n",
    "    user_vectors, item_vectors = training_step(user_vectors, item_vectors, ratings, l1_reg_items, l1_reg_users)\n",
    "    \n",
    "    this_history = {}\n",
    "    all_predictions = predict_all(user_vectors, item_vectors)\n",
    "    this_history['train_mse'] = compute_mae(all_predictions, train_set)\n",
    "    this_history['test_mse'] = compute_mae(all_predictions, test_set)\n",
    "    this_history['diff_users'] = np.sum(np.sum(np.abs(old_user_vectors - user_vectors)))\n",
    "    this_history['diff_items'] = np.sum(np.sum(np.abs(old_item_vectors - item_vectors)))\n",
    "    \n",
    "    history.append(this_history)\n",
    "\n",
    "    print('Completed training iteration {0}'.format(train_idx + 1))\n",
    "\n",
    "print('Done!')"
   ]
  },
  {
   "cell_type": "code",
   "execution_count": 10,
   "metadata": {},
   "outputs": [
    {
     "data": {
      "image/png": "[encoded data removed]",
      "text/plain": [
       "<matplotlib.figure.Figure at 0x22b2d888860>"
      ]
     },
     "metadata": {},
     "output_type": "display_data"
    }
   ],
   "source": [
    "diff_user_vec = [h['diff_users'] for h in history]\n",
    "diff_items_vec = [h['diff_items'] for h in history]\n",
    "diff_total_vec = [h['diff_users'] + h['diff_items'] for h in history]\n",
    "train_mse_vec = [h['train_mse'] for h in history]\n",
    "test_mse_vec = [h['test_mse'] for h in history]\n",
    "x_axis = list(range(0, len(history), 1))\n",
    "\n",
    "fig, (ax_left, ax_right) = plt.subplots(nrows=1, ncols=2, figsize=(20,10))\n",
    "\n",
    "ax_left.plot(x_axis, diff_user_vec, 'r-', label='diff_users')\n",
    "ax_left.plot(x_axis, diff_items_vec, 'b-', label='diff_items')\n",
    "ax_left.plot(x_axis, diff_total_vec, 'g-', label='diff_total')\n",
    "ax_left.set_title('Convergence of ALS over iterations.')\n",
    "ax_left.set_xlim(0, max(x_axis) + 1)\n",
    "ax_left.set_ylim(0, max(diff_total_vec) * 1.05)\n",
    "ax_left.legend()\n",
    "\n",
    "ax_right.plot(x_axis, train_mse_vec, 'r-', label='Train Mean Absolute Error')\n",
    "ax_right.plot(x_axis, test_mse_vec, 'b-', label='Test Mean Absolute Error')\n",
    "ax_right.set_title('Mean Absolute Error by Iteration')\n",
    "ax_right.set_xlim(0, max(x_axis) + 1)\n",
    "ax_right.set_ylim(0, max(test_mse_vec) * 1.05)\n",
    "ax_right.legend()\n",
    "\n",
    "plt.show()"
   ]
  }
 ],
 "metadata": {
  "kernelspec": {
   "display_name": "Python 3",
   "language": "python",
   "name": "python3"
  },
  "language_info": {
   "codemirror_mode": {
    "name": "ipython",
    "version": 3
   },
   "file_extension": ".py",
   "mimetype": "text/x-python",
   "name": "python",
   "nbconvert_exporter": "python",
   "pygments_lexer": "ipython3",
   "version": "3.6.1"
  }
 },
 "nbformat": 4,
 "nbformat_minor": 2
}
